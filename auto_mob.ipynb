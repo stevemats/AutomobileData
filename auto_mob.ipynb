{
 "cells": [
  {
   "cell_type": "markdown",
   "id": "d5fc6908",
   "metadata": {},
   "source": [
    "# Describing Automobile Data && Finding Missing Values\n",
    "\n",
    "## By: Stevemats"
   ]
  },
  {
   "cell_type": "code",
   "execution_count": null,
   "id": "56797efc",
   "metadata": {},
   "outputs": [],
   "source": [
    "import pandas as pd"
   ]
  },
  {
   "cell_type": "code",
   "execution_count": null,
   "id": "0b6f1561",
   "metadata": {},
   "outputs": [],
   "source": []
  },
  {
   "cell_type": "code",
   "execution_count": null,
   "id": "baaeb7df",
   "metadata": {},
   "outputs": [],
   "source": []
  },
  {
   "cell_type": "markdown",
   "id": "4b14796c",
   "metadata": {},
   "source": [
    "##### Source data => https://www.kaggle.com/datasets/a165079/automobilecsv"
   ]
  },
  {
   "cell_type": "code",
   "execution_count": null,
   "id": "8affa90b",
   "metadata": {},
   "outputs": [],
   "source": [
    "df = pd.read_csv(\"./data/Automobile_data.csv\")"
   ]
  },
  {
   "cell_type": "code",
   "execution_count": null,
   "id": "0ae35e2d",
   "metadata": {},
   "outputs": [],
   "source": []
  },
  {
   "cell_type": "markdown",
   "id": "f84304ed",
   "metadata": {},
   "source": [
    "##### printing data types of each column"
   ]
  },
  {
   "cell_type": "code",
   "execution_count": null,
   "id": "23e92ebf",
   "metadata": {},
   "outputs": [],
   "source": [
    "print(df.dtypes)"
   ]
  },
  {
   "cell_type": "code",
   "execution_count": null,
   "id": "f4cedd7f",
   "metadata": {},
   "outputs": [],
   "source": []
  },
  {
   "cell_type": "markdown",
   "id": "1b987f10",
   "metadata": {},
   "source": [
    "###### now describing data & finding missing values"
   ]
  },
  {
   "cell_type": "code",
   "execution_count": null,
   "id": "55d507de",
   "metadata": {},
   "outputs": [],
   "source": [
    "print(df.describe())"
   ]
  },
  {
   "cell_type": "code",
   "execution_count": null,
   "id": "b0915e51",
   "metadata": {},
   "outputs": [],
   "source": [
    "print(df.isnull().sum())"
   ]
  },
  {
   "cell_type": "code",
   "execution_count": null,
   "id": "577723ef",
   "metadata": {},
   "outputs": [],
   "source": []
  }
 ],
 "metadata": {
  "kernelspec": {
   "display_name": "Python 3",
   "language": "python",
   "name": "python3"
  },
  "language_info": {
   "codemirror_mode": {
    "name": "ipython",
    "version": 3
   },
   "file_extension": ".py",
   "mimetype": "text/x-python",
   "name": "python",
   "nbconvert_exporter": "python",
   "pygments_lexer": "ipython3",
   "version": "3.8.8"
  }
 },
 "nbformat": 4,
 "nbformat_minor": 5
}
